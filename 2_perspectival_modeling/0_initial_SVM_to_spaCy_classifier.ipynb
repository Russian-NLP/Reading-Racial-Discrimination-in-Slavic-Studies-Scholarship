{
 "cells": [
  {
   "cell_type": "code",
   "execution_count": 1,
   "metadata": {},
   "outputs": [],
   "source": [
    "import pandas as pd\n",
    "import numpy as np # linear algebra\n",
    "import seaborn as sns\n",
    "import matplotlib.pyplot as plt\n",
    "import base64\n",
    "import string\n",
    "import re\n",
    "from collections import Counter\n",
    "from nltk.corpus import stopwords\n",
    "stopwords = stopwords.words('english')"
   ]
  },
  {
   "cell_type": "code",
   "execution_count": 25,
   "metadata": {},
   "outputs": [
    {
     "data": {
      "text/html": [
       "<div>\n",
       "<style scoped>\n",
       "    .dataframe tbody tr th:only-of-type {\n",
       "        vertical-align: middle;\n",
       "    }\n",
       "\n",
       "    .dataframe tbody tr th {\n",
       "        vertical-align: top;\n",
       "    }\n",
       "\n",
       "    .dataframe thead th {\n",
       "        text-align: right;\n",
       "    }\n",
       "</style>\n",
       "<table border=\"1\" class=\"dataframe\">\n",
       "  <thead>\n",
       "    <tr style=\"text-align: right;\">\n",
       "      <th></th>\n",
       "      <th>Unnamed: 0</th>\n",
       "      <th>file</th>\n",
       "      <th>class</th>\n",
       "      <th>text</th>\n",
       "    </tr>\n",
       "  </thead>\n",
       "  <tbody>\n",
       "    <tr>\n",
       "      <th>0</th>\n",
       "      <td>0</td>\n",
       "      <td>journalarticle10.2307_4211795</td>\n",
       "      <td>slavic</td>\n",
       "      <td>natal ia tolstaia natal ia tolstaia some nabok...</td>\n",
       "    </tr>\n",
       "    <tr>\n",
       "      <th>1</th>\n",
       "      <td>1</td>\n",
       "      <td>journalarticle10.2307_4380175</td>\n",
       "      <td>slavic</td>\n",
       "      <td>e sharpe inc e sharpe inc e sharpe inc e sharp...</td>\n",
       "    </tr>\n",
       "    <tr>\n",
       "      <th>2</th>\n",
       "      <td>2</td>\n",
       "      <td>journalarticle10.2307_3090489</td>\n",
       "      <td>slavic</td>\n",
       "      <td>decollectivization bulgaria hungary decollecti...</td>\n",
       "    </tr>\n",
       "    <tr>\n",
       "      <th>3</th>\n",
       "      <td>3</td>\n",
       "      <td>journalarticle10.2307_40650366</td>\n",
       "      <td>slavic</td>\n",
       "      <td>pp price unknown pp price unknown pp price unk...</td>\n",
       "    </tr>\n",
       "    <tr>\n",
       "      <th>4</th>\n",
       "      <td>4</td>\n",
       "      <td>journalarticle10.2307_40297132</td>\n",
       "      <td>slavic</td>\n",
       "      <td>copyright act 1912 copyright act 1912 copyrigh...</td>\n",
       "    </tr>\n",
       "  </tbody>\n",
       "</table>\n",
       "</div>"
      ],
      "text/plain": [
       "   Unnamed: 0                            file   class  \\\n",
       "0           0   journalarticle10.2307_4211795  slavic   \n",
       "1           1   journalarticle10.2307_4380175  slavic   \n",
       "2           2   journalarticle10.2307_3090489  slavic   \n",
       "3           3  journalarticle10.2307_40650366  slavic   \n",
       "4           4  journalarticle10.2307_40297132  slavic   \n",
       "\n",
       "                                                text  \n",
       "0  natal ia tolstaia natal ia tolstaia some nabok...  \n",
       "1  e sharpe inc e sharpe inc e sharpe inc e sharp...  \n",
       "2  decollectivization bulgaria hungary decollecti...  \n",
       "3  pp price unknown pp price unknown pp price unk...  \n",
       "4  copyright act 1912 copyright act 1912 copyrigh...  "
      ]
     },
     "execution_count": 25,
     "metadata": {},
     "output_type": "execute_result"
    }
   ],
   "source": [
    "df = pd.read_csv('slavic_aa_data.csv')\n",
    "df.head()"
   ]
  },
  {
   "cell_type": "code",
   "execution_count": 4,
   "metadata": {},
   "outputs": [
    {
     "data": {
      "text/plain": [
       "(99209, 4)"
      ]
     },
     "execution_count": 4,
     "metadata": {},
     "output_type": "execute_result"
    }
   ],
   "source": [
    "df.shape"
   ]
  },
  {
   "cell_type": "code",
   "execution_count": 5,
   "metadata": {},
   "outputs": [],
   "source": [
    "# drop any entries without text\n",
    "df = df.dropna(subset=['text'])"
   ]
  },
  {
   "cell_type": "code",
   "execution_count": 6,
   "metadata": {},
   "outputs": [
    {
     "data": {
      "text/plain": [
       "Unnamed: 0    0\n",
       "file          0\n",
       "class         0\n",
       "text          0\n",
       "dtype: int64"
      ]
     },
     "execution_count": 6,
     "metadata": {},
     "output_type": "execute_result"
    }
   ],
   "source": [
    "df.isnull().sum()"
   ]
  },
  {
   "cell_type": "code",
   "execution_count": 7,
   "metadata": {},
   "outputs": [
    {
     "data": {
      "text/plain": [
       "2"
      ]
     },
     "execution_count": 7,
     "metadata": {},
     "output_type": "execute_result"
    }
   ],
   "source": [
    "df['class'].nunique()"
   ]
  },
  {
   "cell_type": "code",
   "execution_count": 8,
   "metadata": {},
   "outputs": [],
   "source": [
    "slavic = df[df['class'] == 'slavic']\n",
    "aa_studies = df[df['class'] == 'africanamerican']\n"
   ]
  },
  {
   "cell_type": "code",
   "execution_count": 19,
   "metadata": {},
   "outputs": [
    {
     "name": "stdout",
     "output_type": "stream",
     "text": [
      "10 10\n"
     ]
    }
   ],
   "source": [
    "# downsample so that the kernel does not crash with 60G of RAM\n",
    "type_ = 'number'\n",
    "if type_ == 'percent':\n",
    "    sample = 1.0\n",
    "    slavic_sample = slavic.sample(n=int(len(slavic) * sample), random_state=1)\n",
    "    aa_sample = aa_studies.sample(n=int(len(aa_studies) * sample), random_state=1)\n",
    "if type_ == 'number':\n",
    "    slavic_sample = slavic.sample(n=10, random_state=1)\n",
    "    aa_sample = aa_studies.sample(n=10, random_state=1)\n",
    "\n",
    "print(len(slavic_sample), len(aa_sample))"
   ]
  },
  {
   "cell_type": "code",
   "execution_count": 20,
   "metadata": {},
   "outputs": [
    {
     "data": {
      "text/plain": [
       "20"
      ]
     },
     "execution_count": 20,
     "metadata": {},
     "output_type": "execute_result"
    }
   ],
   "source": [
    "df = pd.concat([slavic_sample,aa_sample])\n",
    "len(df)"
   ]
  },
  {
   "cell_type": "code",
   "execution_count": 11,
   "metadata": {},
   "outputs": [],
   "source": [
    "from sklearn.model_selection import train_test_split\n",
    "train, test = train_test_split(df, test_size=0.33, random_state=42)"
   ]
  },
  {
   "cell_type": "code",
   "execution_count": 25,
   "metadata": {},
   "outputs": [
    {
     "name": "stdout",
     "output_type": "stream",
     "text": [
      "Research title sample: journalarticle10.2307_2500768\n",
      "Conference of this paper: slavic\n",
      "Training Data Shape: (3321, 4)\n",
      "Testing Data Shape: (1636, 4)\n"
     ]
    }
   ],
   "source": [
    "print('Research title sample:', train['file'].iloc[0])\n",
    "print('Conference of this paper:', train['class'].iloc[0])\n",
    "print('Training Data Shape:', train.shape)\n",
    "print('Testing Data Shape:', test.shape)"
   ]
  },
  {
   "cell_type": "code",
   "execution_count": 26,
   "metadata": {},
   "outputs": [
    {
     "data": {
      "image/png": "[encoded data removed]",
      "text/plain": [
       "<Figure size 576x288 with 1 Axes>"
      ]
     },
     "metadata": {
      "needs_background": "light"
     },
     "output_type": "display_data"
    }
   ],
   "source": [
    "fig = plt.figure(figsize=(8,4))\n",
    "sns.barplot(x = train['class'].unique(), y=train['class'].value_counts())\n",
    "plt.show()"
   ]
  },
  {
   "cell_type": "code",
   "execution_count": 7,
   "metadata": {},
   "outputs": [],
   "source": [
    "import spacy\n",
    "\n",
    "nlp = spacy.load('xx_ent_wiki_sm')\n",
    "punctuations = string.punctuation\n",
    "\n",
    "# Define function to cleanup text by removing personal pronouns, stopwords, and puncuation\n",
    "def cleanup_text(docs, logging=False):\n",
    "    texts = []\n",
    "    counter = 1\n",
    "    for doc in docs:\n",
    "        if counter % 1000 == 0 and logging:\n",
    "            print(\"Processed %d out of %d documents.\" % (counter, len(docs)))\n",
    "        counter += 1\n",
    "        doc = nlp(doc, disable=['parser', 'ner'])\n",
    "        tokens = [tok.lemma_.lower().strip() for tok in doc if tok.lemma_ != '-PRON-']\n",
    "        tokens = [tok for tok in tokens if tok not in stopwords and tok not in punctuations]\n",
    "        tokens = ' '.join(tokens)\n",
    "        texts.append(tokens)\n",
    "    return pd.Series(texts)"
   ]
  },
  {
   "cell_type": "code",
   "execution_count": 8,
   "metadata": {},
   "outputs": [],
   "source": [
    "INFO_text = [text for text in train[train['class'] == 'slavic']['file']]\n",
    "\n",
    "IS_text = [text for text in train[train['class'] == 'africanamerican']['file']]\n",
    "\n",
    "INFO_clean = cleanup_text(INFO_text)\n",
    "INFO_clean = ' '.join(INFO_clean).split()\n",
    "\n",
    "IS_clean = cleanup_text(IS_text)\n",
    "IS_clean = ' '.join(IS_clean).split()\n",
    "\n",
    "INFO_counts = Counter(INFO_clean)\n",
    "IS_counts = Counter(IS_clean)"
   ]
  },
  {
   "cell_type": "code",
   "execution_count": 9,
   "metadata": {},
   "outputs": [
    {
     "data": {
      "image/png": "[encoded data removed]",
      "text/plain": [
       "<Figure size 1296x432 with 1 Axes>"
      ]
     },
     "metadata": {
      "needs_background": "light"
     },
     "output_type": "display_data"
    }
   ],
   "source": [
    "INFO_common_words = [word[0] for word in INFO_counts.most_common(20)]\n",
    "INFO_common_counts = [word[1] for word in INFO_counts.most_common(20)]\n",
    "\n",
    "fig = plt.figure(figsize=(18,6))\n",
    "sns.barplot(x=INFO_common_words, y=INFO_common_counts)\n",
    "plt.title('Most Common Words used in the research papers for conference INFOCOM')\n",
    "plt.show()"
   ]
  },
  {
   "cell_type": "code",
   "execution_count": 10,
   "metadata": {},
   "outputs": [
    {
     "data": {
      "image/png": "[encoded data removed]",
      "text/plain": [
       "<Figure size 1296x432 with 1 Axes>"
      ]
     },
     "metadata": {
      "needs_background": "light"
     },
     "output_type": "display_data"
    }
   ],
   "source": [
    "IS_common_words = [word[0] for word in IS_counts.most_common(20)]\n",
    "IS_common_counts = [word[1] for word in IS_counts.most_common(20)]\n",
    "\n",
    "fig = plt.figure(figsize=(18,6))\n",
    "sns.barplot(x=IS_common_words, y=IS_common_counts)\n",
    "plt.title('Most Common Words used in the research papers for conference ISCAS')\n",
    "plt.show()"
   ]
  },
  {
   "cell_type": "code",
   "execution_count": 11,
   "metadata": {},
   "outputs": [
    {
     "data": {
      "text/html": [
       "<div>\n",
       "<style scoped>\n",
       "    .dataframe tbody tr th:only-of-type {\n",
       "        vertical-align: middle;\n",
       "    }\n",
       "\n",
       "    .dataframe tbody tr th {\n",
       "        vertical-align: top;\n",
       "    }\n",
       "\n",
       "    .dataframe thead th {\n",
       "        text-align: right;\n",
       "    }\n",
       "</style>\n",
       "<table border=\"1\" class=\"dataframe\">\n",
       "  <thead>\n",
       "    <tr style=\"text-align: right;\">\n",
       "      <th></th>\n",
       "      <th>Unnamed: 0</th>\n",
       "      <th>file</th>\n",
       "      <th>class</th>\n",
       "      <th>text</th>\n",
       "    </tr>\n",
       "  </thead>\n",
       "  <tbody>\n",
       "    <tr>\n",
       "      <th>38760</th>\n",
       "      <td>38760</td>\n",
       "      <td>journalarticle10.2307_24003181</td>\n",
       "      <td>slavic</td>\n",
       "      <td>bild vom häßlichen bild vom häßlichen bild vom...</td>\n",
       "    </tr>\n",
       "    <tr>\n",
       "      <th>87036</th>\n",
       "      <td>87036</td>\n",
       "      <td>journalarticle10.2307_44245649</td>\n",
       "      <td>africanamerican</td>\n",
       "      <td>civil rights bill civil rights bill civil righ...</td>\n",
       "    </tr>\n",
       "    <tr>\n",
       "      <th>22509</th>\n",
       "      <td>22509</td>\n",
       "      <td>journalarticle10.2307_3086154</td>\n",
       "      <td>slavic</td>\n",
       "      <td>cambridge university press cambridge universit...</td>\n",
       "    </tr>\n",
       "    <tr>\n",
       "      <th>44723</th>\n",
       "      <td>44723</td>\n",
       "      <td>bookchapter10.2307_j.ctv11692bm.6</td>\n",
       "      <td>africanamerican</td>\n",
       "      <td>der neuen welt der neuen welt der neuen welt d...</td>\n",
       "    </tr>\n",
       "    <tr>\n",
       "      <th>69780</th>\n",
       "      <td>69780</td>\n",
       "      <td>journalarticle10.2307_2962972</td>\n",
       "      <td>africanamerican</td>\n",
       "      <td>i i i i i i i i i i i i i i i i i i i i i afri...</td>\n",
       "    </tr>\n",
       "  </tbody>\n",
       "</table>\n",
       "</div>"
      ],
      "text/plain": [
       "       Unnamed: 0                               file            class  \\\n",
       "38760       38760     journalarticle10.2307_24003181           slavic   \n",
       "87036       87036     journalarticle10.2307_44245649  africanamerican   \n",
       "22509       22509      journalarticle10.2307_3086154           slavic   \n",
       "44723       44723  bookchapter10.2307_j.ctv11692bm.6  africanamerican   \n",
       "69780       69780      journalarticle10.2307_2962972  africanamerican   \n",
       "\n",
       "                                                    text  \n",
       "38760  bild vom häßlichen bild vom häßlichen bild vom...  \n",
       "87036  civil rights bill civil rights bill civil righ...  \n",
       "22509  cambridge university press cambridge universit...  \n",
       "44723  der neuen welt der neuen welt der neuen welt d...  \n",
       "69780  i i i i i i i i i i i i i i i i i i i i i afri...  "
      ]
     },
     "execution_count": 11,
     "metadata": {},
     "output_type": "execute_result"
    }
   ],
   "source": [
    "test.head()"
   ]
  },
  {
   "cell_type": "code",
   "execution_count": 14,
   "metadata": {},
   "outputs": [
    {
     "name": "stderr",
     "output_type": "stream",
     "text": [
      "/home/ajanco/anaconda3/envs/spacy/lib/python3.7/site-packages/sklearn/utils/deprecation.py:143: FutureWarning: The sklearn.feature_extraction.stop_words module is  deprecated in version 0.22 and will be removed in version 0.24. The corresponding classes / functions should instead be imported from sklearn.feature_extraction.text. Anything that cannot be imported from sklearn.feature_extraction.text is now part of the private API.\n",
      "  warnings.warn(message, FutureWarning)\n"
     ]
    }
   ],
   "source": [
    "from sklearn.feature_extraction.text import CountVectorizer\n",
    "from sklearn.base import TransformerMixin\n",
    "from sklearn.pipeline import Pipeline\n",
    "from sklearn.svm import LinearSVC\n",
    "from sklearn.feature_extraction.stop_words import ENGLISH_STOP_WORDS\n",
    "from sklearn.metrics import accuracy_score\n",
    "from nltk.corpus import stopwords\n",
    "import string\n",
    "import re\n",
    "import spacy\n",
    "spacy.load('en_core_web_sm')\n",
    "from spacy.lang.en import English\n",
    "parser = English()"
   ]
  },
  {
   "cell_type": "code",
   "execution_count": 13,
   "metadata": {},
   "outputs": [],
   "source": [
    "STOPLIST = set(stopwords.words('english') + list(ENGLISH_STOP_WORDS))\n",
    "SYMBOLS = \" \".join(string.punctuation).split(\" \") + [\"-\", \"...\", \"”\", \"”\"]"
   ]
  },
  {
   "cell_type": "code",
   "execution_count": 14,
   "metadata": {},
   "outputs": [],
   "source": [
    "class CleanTextTransformer(TransformerMixin):\n",
    "    def transform(self, X, **transform_params):\n",
    "        return [cleanText(text) for text in X]\n",
    "    def fit(self, X, y=None, **fit_params):\n",
    "        return self\n",
    "    def get_params(self, deep=True):\n",
    "        return {}\n",
    "    \n",
    "def cleanText(text):\n",
    "    text = text.strip().replace(\"\\n\", \" \").replace(\"\\r\", \" \")\n",
    "    text = text.lower()\n",
    "    return text\n",
    "\n",
    "def tokenizeText(sample):\n",
    "    tokens = parser(sample)\n",
    "    lemmas = []\n",
    "    for tok in tokens:\n",
    "        lemmas.append(tok.lemma_.lower().strip() if tok.lemma_ != \"-PRON-\" else tok.lower_)\n",
    "    tokens = lemmas\n",
    "    tokens = [tok for tok in tokens if tok not in STOPLIST]\n",
    "    tokens = [tok for tok in tokens if tok not in SYMBOLS]\n",
    "    return tokens"
   ]
  },
  {
   "cell_type": "code",
   "execution_count": 15,
   "metadata": {
    "scrolled": false
   },
   "outputs": [
    {
     "name": "stdout",
     "output_type": "stream",
     "text": [
      "accuracy: 0.5832798802651272\n",
      "Top 10 features used to predict: \n",
      "Class 1 best: \n",
      "(-0.5980386381219308, '..')\n",
      "(-0.5540630788128413, 'journalarticle10.2307_2291859')\n",
      "(-0.5540595584194506, 'journalarticle10.2307_1214376')\n",
      "(-0.5540570536243514, 'journalarticle10.2307_25073648')\n",
      "(-0.5540568213727057, 'journalarticle10.2307_41069680')\n",
      "(-0.5540563948544721, 'journalarticle10.2307_2934526')\n",
      "(-0.5540563515976986, 'journalarticle10.2307_2904421')\n",
      "(-0.5540563382269069, 'bookchapter10.2307_j.ctvx0707t.11')\n",
      "(-0.5540554603752081, 'journalarticle10.2307_41069664')\n",
      "(-0.5540554178988373, 'journalarticle10.2307_272813')\n",
      "Class 2 best: \n",
      "(0.7792856254292021, 'journalarticle10.2307_26627736')\n",
      "(0.779285492353212, 'journalarticle10.2307_24002811')\n",
      "(0.7792841719939869, 'journalarticle10.2307_24002894')\n",
      "(0.779283393705652, 'journalarticle10.2307_308586')\n",
      "(0.7792820503602158, 'journalarticle10.2307_131216')\n",
      "(0.7792820451464407, 'journalarticle10.2307_3664379')\n",
      "(0.7792818684642661, 'journalarticle10.2307_3649991')\n",
      "(0.7792818487357978, 'journalarticle10.2307_44963599')\n",
      "(0.7792814214712528, 'journalarticle10.2307_26661976')\n",
      "(0.7792812603841018, 'journalarticle10.5699_slaveasteurorev2.92.4.0744')\n"
     ]
    }
   ],
   "source": [
    "def printNMostInformative(vectorizer, clf, N):\n",
    "    feature_names = vectorizer.get_feature_names()\n",
    "    coefs_with_fns = sorted(zip(clf.coef_[0], feature_names))\n",
    "    topClass1 = coefs_with_fns[:N]\n",
    "    topClass2 = coefs_with_fns[:-(N + 1):-1]\n",
    "    print(\"Class 1 best: \")\n",
    "    for feat in topClass1:\n",
    "        print(feat)\n",
    "    print(\"Class 2 best: \")\n",
    "    for feat in topClass2:\n",
    "        print(feat)\n",
    "\n",
    "vectorizer = CountVectorizer(tokenizer=tokenizeText, ngram_range=(1,1))\n",
    "clf = LinearSVC()\n",
    "pipe = Pipeline([('cleanText', CleanTextTransformer()), ('vectorizer', vectorizer), ('clf', clf)])\n",
    "\n",
    "# data\n",
    "train1 = train['file'].tolist()\n",
    "labelsTrain1 = train['class'].tolist()\n",
    "\n",
    "test1 = test['file'].tolist()\n",
    "labelsTest1 = test['class'].tolist()\n",
    "# train\n",
    "pipe.fit(train1, labelsTrain1)\n",
    "\n",
    "# test\n",
    "preds = pipe.predict(test1)\n",
    "print(\"accuracy:\", accuracy_score(labelsTest1, preds))\n",
    "print(\"Top 10 features used to predict: \")\n",
    "\n",
    "printNMostInformative(vectorizer, clf, 10)\n",
    "\n",
    "pipe = Pipeline([('cleanText', CleanTextTransformer()), ('vectorizer', vectorizer)])\n",
    "transform = pipe.fit_transform(train1, labelsTrain1)\n",
    "vocab = vectorizer.get_feature_names()\n",
    "\n",
    "for i in range(len(train1)):\n",
    "    s = \"\"\n",
    "    indexIntoVocab = transform.indices[transform.indptr[i]:transform.indptr[i+1]]\n",
    "    numOccurences = transform.data[transform.indptr[i]:transform.indptr[i+1]]\n",
    "    for idx, num in zip(indexIntoVocab, numOccurences):\n",
    "        s += str((vocab[idx], num))"
   ]
  },
  {
   "cell_type": "code",
   "execution_count": 16,
   "metadata": {},
   "outputs": [
    {
     "name": "stdout",
     "output_type": "stream",
     "text": [
      "                 precision    recall  f1-score   support\n",
      "\n",
      "         slavic       0.58      1.00      0.74     19097\n",
      "africanamerican       0.00      0.00      0.00     13642\n",
      "\n",
      "       accuracy                           0.58     32739\n",
      "      macro avg       0.29      0.50      0.37     32739\n",
      "   weighted avg       0.34      0.58      0.43     32739\n",
      "\n"
     ]
    }
   ],
   "source": [
    "from sklearn import metrics\n",
    "print(metrics.classification_report(labelsTest1, preds, \n",
    "                                    target_names=df['class'].unique()))"
   ]
  },
  {
   "cell_type": "code",
   "execution_count": 21,
   "metadata": {},
   "outputs": [],
   "source": [
    "import scattertext as st\n",
    "\n",
    "nlp = spacy.load('xx_ent_wiki_sm',disable_pipes=[\"tagger\",\"ner\"])\n",
    "nlp.max_length = 5122600\n",
    "nlp.add_pipe(nlp.create_pipe('sentencizer'))\n",
    "train_df = df\n",
    "train_df['parsed'] = train_df.text.apply(nlp)\n",
    "corpus = st.CorpusFromParsedDocuments(train_df,\n",
    "                             category_col='class',\n",
    "                             parsed_col='parsed').build()"
   ]
  },
  {
   "cell_type": "code",
   "execution_count": 22,
   "metadata": {},
   "outputs": [
    {
     "name": "stdout",
     "output_type": "stream",
     "text": [
      "['oprichnina', 'afric', 'raskolnikov', 'muscovite', 'filipp', 'arkhiv', 'iakhin', 'lizaveta', 'literaturen', 'afri', 'slimness', 'obra', 'oprichniki', 'wollmans', 'svidrigailov', 'muscovy', 'luzhin', 'staritskii', 'slawischen', 'gosudarstvennyi', 'riazan', 'insurrections', 'scottsboro', 'hbcu', 'oblasti', 'privateers', 'novgorod', 'dostoevsky', 'pushkin', 'mekhlis', 'tsentral', 'devlet', 'russie', 'aptheker', 'rtskhidni', 'nyi', 'thinness', 'wollman', 'hebdon', 'munitsipal', 'uriupin', 'perestroika', 'boyars', 'negroes', 'xvif', 'rgae', 'girei', 'moskvy', 'russe', 'moskoff', 'kurskoi', 'historiens', 'ivanovna', 'boyar', 'ivan', 'riazanskoi', 'viskovatyi', 'norrgard', 'livonian', 'noblesse', 'revolts', 'konorev', 'eshu', 'sovet', 'cherkasskii', 'zubkova', 'springerj', 'ibler', 'appanage', 'commissariat', 'spriggs', 'jarrell', 'moscou', 'xvie', 'akopian', 'russes', 'tsars', 'historiques', 'insurrection', 'chis', 'sagesse', 'underweight', 'razumihin', 'peschio', 'marmeladov', 'xvne', 'chernyshevsky', 'crimean', 'rubles', 'kochen', 'crise', 'lituanie', 'malmberg', 'flegal', 'smolensk', 'tsar', 'postwar', 'sonya', 'privateer', 'artel']\n"
     ]
    }
   ],
   "source": [
    "print(list(corpus.get_scaled_f_scores_vs_background().index[:100]))"
   ]
  },
  {
   "cell_type": "code",
   "execution_count": 23,
   "metadata": {},
   "outputs": [
    {
     "name": "stdout",
     "output_type": "stream",
     "text": [
      "['moscow',\n",
      " 'policy',\n",
      " 'ivan s',\n",
      " 'est',\n",
      " 'cooperatives',\n",
      " 'vladimir',\n",
      " 'oprichnina',\n",
      " 'pushkin',\n",
      " 'filipp',\n",
      " 'stalin',\n",
      " 'muscovite',\n",
      " 'novgorod',\n",
      " 'lizaveta',\n",
      " 'raskolnikov',\n",
      " 'und',\n",
      " 'postwar',\n",
      " 'dostoevsky',\n",
      " 'cooperative',\n",
      " 'slavic',\n",
      " 'von',\n",
      " 'qui',\n",
      " 'der',\n",
      " 'den',\n",
      " 'dans',\n",
      " 'que',\n",
      " 'privateers',\n",
      " 'soviet',\n",
      " 'russian',\n",
      " 'à',\n",
      " 'les',\n",
      " 'le',\n",
      " 'ivan',\n",
      " 'market',\n",
      " 'arkhiv',\n",
      " 'par',\n",
      " 'zu',\n",
      " 'iakhin',\n",
      " 'tax',\n",
      " 'russia',\n",
      " 'mar',\n",
      " 'des',\n",
      " 'auch',\n",
      " 'muscovy',\n",
      " 'literaturen',\n",
      " 'nyi',\n",
      " 'cloth',\n",
      " 'gentry',\n",
      " 'de l',\n",
      " '1947',\n",
      " '1 d',\n",
      " 'auf',\n",
      " 'siècle',\n",
      " 'sector',\n",
      " 'rubles',\n",
      " 'à la',\n",
      " 'gosudarstvennyi',\n",
      " 'luzhin',\n",
      " 'une',\n",
      " 'russie',\n",
      " 'pour',\n",
      " 'il',\n",
      " 'als',\n",
      " 'oprichniki',\n",
      " 'terror',\n",
      " 'wollmans',\n",
      " 'mar iakhin',\n",
      " 'tsar',\n",
      " 'russe',\n",
      " 'sont',\n",
      " 'oblasti',\n",
      " 'royal',\n",
      " 'charity',\n",
      " 'svidrigailov',\n",
      " 'decree',\n",
      " 'artisans',\n",
      " '1566',\n",
      " 'plus',\n",
      " 'seventeenth',\n",
      " 'staritskii',\n",
      " 'd op',\n",
      " 'slawischen',\n",
      " 'perestroika',\n",
      " 'sixteenth',\n",
      " 'ussr',\n",
      " 'sexual',\n",
      " 'ces',\n",
      " 'entre',\n",
      " 'riazan',\n",
      " 'wollman',\n",
      " 'metropolitan',\n",
      " 'se',\n",
      " 'crimean',\n",
      " 'orthodox',\n",
      " 'aux',\n",
      " 'lithuanian',\n",
      " 'eighteenth',\n",
      " 'mekhlis',\n",
      " 'op 1',\n",
      " 'privateer',\n",
      " 'ukraine']\n"
     ]
    }
   ],
   "source": [
    "import pprint \n",
    "term_freq_df = corpus.get_term_freq_df()\n",
    "term_freq_df['Slavic'] = corpus.get_scaled_f_scores('slavic')\n",
    "pprint.pprint(list(term_freq_df.sort_values(by='Slavic', ascending=False).index[:100]))"
   ]
  },
  {
   "cell_type": "code",
   "execution_count": 24,
   "metadata": {},
   "outputs": [
    {
     "data": {
      "text/plain": [
       "33852630"
      ]
     },
     "execution_count": 24,
     "metadata": {},
     "output_type": "execute_result"
    }
   ],
   "source": [
    "html = st.produce_scattertext_explorer(\n",
    "    corpus,\n",
    "    category='slavic', category_name='slavic', not_category_name='africanamerican',\n",
    "    minimum_term_frequency=0, pmi_threshold_coefficient=0,\n",
    "    width_in_pixels=1000, metadata=corpus.get_df()['file'],\n",
    "    transform=st.Scalers.dense_rank\n",
    ")\n",
    "open('./demo_compact.html', 'w').write(html)"
   ]
  },
  {
   "cell_type": "code",
   "execution_count": 38,
   "metadata": {},
   "outputs": [
    {
     "name": "stdout",
     "output_type": "stream",
     "text": [
      "['moocs',\n",
      " 'afro american',\n",
      " 'african american',\n",
      " 'haiti',\n",
      " 'bismarck',\n",
      " 'dominican',\n",
      " 'wir',\n",
      " 'luperon',\n",
      " 'gott',\n",
      " 'u ber',\n",
      " 'hatte',\n",
      " 'juden',\n",
      " 'hbcu',\n",
      " 'jazz',\n",
      " 'black women',\n",
      " 'mississippi',\n",
      " 'nabrit',\n",
      " 'whites',\n",
      " 'blacks',\n",
      " 'afric',\n",
      " 'hbcus',\n",
      " 'betances',\n",
      " 'ava',\n",
      " 'overweight',\n",
      " 'johnnie',\n",
      " 'negro',\n",
      " 'untergang',\n",
      " 'rung',\n",
      " 'negroes',\n",
      " 'afro',\n",
      " 'bathing',\n",
      " 'rhodesia',\n",
      " 'africans',\n",
      " 'howard',\n",
      " 'angst',\n",
      " 'cleage',\n",
      " 'blues',\n",
      " 'pequena',\n",
      " 'journal negro',\n",
      " 'wissenschaft',\n",
      " 'aufkla',\n",
      " 'angra',\n",
      " 'puerto',\n",
      " 'menschheit',\n",
      " 'cit p',\n",
      " 'ruby',\n",
      " 'judentum',\n",
      " 'gunn',\n",
      " 'fru',\n",
      " 'adolescents',\n",
      " 'r die',\n",
      " 'rustin',\n",
      " 'bmi',\n",
      " 'herron',\n",
      " 'negro history',\n",
      " 'afri',\n",
      " 'granville',\n",
      " 'races',\n",
      " 'afric obra',\n",
      " 'harlem',\n",
      " 'gates',\n",
      " 'cobra',\n",
      " 'spinoza',\n",
      " 'american literature',\n",
      " 'body image',\n",
      " 'damon',\n",
      " 'idlewild',\n",
      " 'sudanese',\n",
      " 'die juden',\n",
      " 'bathing beauty',\n",
      " 'achebe',\n",
      " 'hurston',\n",
      " 'aa women',\n",
      " 'negro education',\n",
      " 'banneker',\n",
      " 'angra pequena',\n",
      " 'ende',\n",
      " 'ahnung',\n",
      " 'african americans',\n",
      " 'louisiana',\n",
      " 'american women',\n",
      " 'gro',\n",
      " 'scottsboro',\n",
      " 'john christopher',\n",
      " 'haitian',\n",
      " 'insurrections',\n",
      " 'spinozas',\n",
      " 'pwc',\n",
      " 'b dubois',\n",
      " 'obsidian',\n",
      " 'langston',\n",
      " 'stepto',\n",
      " 'romero',\n",
      " 'alles',\n",
      " 'wu',\n",
      " 'caste',\n",
      " 'wright s',\n",
      " 'gab',\n",
      " 'rhodesians',\n",
      " 'apokalypse']\n"
     ]
    }
   ],
   "source": [
    "import pprint \n",
    "term_freq_df = corpus.get_term_freq_df()\n",
    "term_freq_df['AfricanAmerican'] = corpus.get_scaled_f_scores('africanamerican')\n",
    "pprint.pprint(list(term_freq_df.sort_values(by='AfricanAmerican', ascending=False).index[:100]))"
   ]
  },
  {
   "cell_type": "markdown",
   "metadata": {},
   "source": [
    "# Use spaCy classifier given poor performance of SVM"
   ]
  },
  {
   "cell_type": "code",
   "execution_count": 2,
   "metadata": {},
   "outputs": [],
   "source": [
    "import pandas as pd \n",
    "df = pd.read_csv('slavic_aa_data.csv')\n",
    "df = df.dropna(subset=['text'])"
   ]
  },
  {
   "cell_type": "code",
   "execution_count": 3,
   "metadata": {},
   "outputs": [
    {
     "name": "stderr",
     "output_type": "stream",
     "text": [
      "/home/ajanco/anaconda3/envs/spacy/lib/python3.7/site-packages/ipykernel_launcher.py:1: TqdmExperimentalWarning: Using `tqdm.autonotebook.tqdm` in notebook mode. Use `tqdm.tqdm` instead to force console mode (e.g. in jupyter console)\n",
      "  \"\"\"Entry point for launching an IPython kernel.\n"
     ]
    },
    {
     "data": {
      "application/vnd.jupyter.widget-view+json": {
       "model_id": "8c2b89e7dff542fcb2067442ac3848ed",
       "version_major": 2,
       "version_minor": 0
      },
      "text/plain": [
       "HBox(children=(FloatProgress(value=1.0, bar_style='info', max=1.0), HTML(value='')))"
      ]
     },
     "metadata": {},
     "output_type": "display_data"
    },
    {
     "name": "stdout",
     "output_type": "stream",
     "text": [
      "\n"
     ]
    }
   ],
   "source": [
    "from tqdm.autonotebook import tqdm \n",
    "TRAIN_DATA = []\n",
    "for index, row in tqdm(df.iterrows()):\n",
    "    if row['class'] == 'slavic':\n",
    "        \n",
    "        TRAIN_DATA.append((row['text'],{'cats': {'SLAVIC': 1, 'AFRICANAMERICAN': 0}}))\n",
    "    if row['class'] == 'africanamerican':\n",
    "        TRAIN_DATA.append((row['text'],{'cats': {'SLAVIC': 0, 'AFRICANAMERICAN': 1}}))\n",
    "\n",
    "#TRAIN_DATA = [(Text1, {'cats': {'POSITIVE': 1}}),(Text2, {'cats': {'POSITIVE': 0}})]\n"
   ]
  },
  {
   "cell_type": "code",
   "execution_count": 5,
   "metadata": {},
   "outputs": [
    {
     "data": {
      "text/plain": [
       "1"
      ]
     },
     "execution_count": 5,
     "metadata": {},
     "output_type": "execute_result"
    }
   ],
   "source": [
    "import spacy \n",
    "nlp = spacy.load('xx_ent_wiki_sm')\n",
    "if 'textcat' not in nlp.pipe_names:\n",
    "  textcat = nlp.create_pipe(\"textcat\")\n",
    "  nlp.add_pipe(textcat, last=True) \n",
    "else:\n",
    "  textcat = nlp.get_pipe(\"textcat\")\n",
    "\n",
    "textcat.add_label('SLAVIC')\n",
    "textcat.add_label('AFRICANAMERICAN')"
   ]
  },
  {
   "cell_type": "code",
   "execution_count": null,
   "metadata": {},
   "outputs": [
    {
     "name": "stdout",
     "output_type": "stream",
     "text": [
      "Training model...\n"
     ]
    }
   ],
   "source": [
    "from spacy.util import minibatch, compounding\n",
    "\n",
    "other_pipes = [pipe for pipe in nlp.pipe_names if pipe != 'textcat']\n",
    "\n",
    "n_iter = 1\n",
    "\n",
    "# Only train the textcat pipe\n",
    "with nlp.disable_pipes(*other_pipes):\n",
    "    optimizer = nlp.begin_training()\n",
    "    print(\"Training model...\")\n",
    "    for i in range(n_iter):\n",
    "        losses = {}\n",
    "        batches = minibatch(TRAIN_DATA, size=compounding(4,32,1.001))\n",
    "        for batch in batches:\n",
    "            texts, annotations = zip(*batch)\n",
    "            nlp.update(texts, annotations, sgd=optimizer,\n",
    "                      drop=0.2, losses=losses)"
   ]
  },
  {
   "cell_type": "code",
   "execution_count": null,
   "metadata": {},
   "outputs": [],
   "source": []
  }
 ],
 "metadata": {
  "kernelspec": {
   "display_name": "spaCy",
   "language": "python",
   "name": "spacy"
  },
  "language_info": {
   "codemirror_mode": {
    "name": "ipython",
    "version": 3
   },
   "file_extension": ".py",
   "mimetype": "text/x-python",
   "name": "python",
   "nbconvert_exporter": "python",
   "pygments_lexer": "ipython3",
   "version": "3.8.5"
  }
 },
 "nbformat": 4,
 "nbformat_minor": 2
}
