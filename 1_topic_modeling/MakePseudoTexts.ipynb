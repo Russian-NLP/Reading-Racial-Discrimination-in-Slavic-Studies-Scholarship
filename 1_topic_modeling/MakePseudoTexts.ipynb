{
 "cells": [
  {
   "cell_type": "code",
   "execution_count": 16,
   "metadata": {},
   "outputs": [
    {
     "name": "stdout",
     "output_type": "stream",
     "text": [
      "Collecting en_core_web_sm==2.3.1\n",
      "  Downloading https://github.com/explosion/spacy-models/releases/download/en_core_web_sm-2.3.1/en_core_web_sm-2.3.1.tar.gz (12.0 MB)\n",
      "\u001b[K     |████████████████████████████████| 12.0 MB 3.4 MB/s eta 0:00:01\n",
      "\u001b[?25hRequirement already satisfied: spacy<2.4.0,>=2.3.0 in /home/ajanco/anaconda3/envs/bertopic/lib/python3.8/site-packages (from en_core_web_sm==2.3.1) (2.3.2)\n",
      "Requirement already satisfied: preshed<3.1.0,>=3.0.2 in /home/ajanco/anaconda3/envs/bertopic/lib/python3.8/site-packages (from spacy<2.4.0,>=2.3.0->en_core_web_sm==2.3.1) (3.0.2)\n",
      "Requirement already satisfied: cymem<2.1.0,>=2.0.2 in /home/ajanco/anaconda3/envs/bertopic/lib/python3.8/site-packages (from spacy<2.4.0,>=2.3.0->en_core_web_sm==2.3.1) (2.0.3)\n",
      "Requirement already satisfied: wasabi<1.1.0,>=0.4.0 in /home/ajanco/anaconda3/envs/bertopic/lib/python3.8/site-packages (from spacy<2.4.0,>=2.3.0->en_core_web_sm==2.3.1) (0.8.0)\n",
      "Requirement already satisfied: catalogue<1.1.0,>=0.0.7 in /home/ajanco/anaconda3/envs/bertopic/lib/python3.8/site-packages (from spacy<2.4.0,>=2.3.0->en_core_web_sm==2.3.1) (1.0.0)\n",
      "Requirement already satisfied: setuptools in /home/ajanco/anaconda3/envs/bertopic/lib/python3.8/site-packages (from spacy<2.4.0,>=2.3.0->en_core_web_sm==2.3.1) (50.3.0.post20201005)\n",
      "Requirement already satisfied: blis<0.5.0,>=0.4.0 in /home/ajanco/anaconda3/envs/bertopic/lib/python3.8/site-packages (from spacy<2.4.0,>=2.3.0->en_core_web_sm==2.3.1) (0.4.1)\n",
      "Requirement already satisfied: thinc==7.4.1 in /home/ajanco/anaconda3/envs/bertopic/lib/python3.8/site-packages (from spacy<2.4.0,>=2.3.0->en_core_web_sm==2.3.1) (7.4.1)\n",
      "Requirement already satisfied: plac<1.2.0,>=0.9.6 in /home/ajanco/anaconda3/envs/bertopic/lib/python3.8/site-packages (from spacy<2.4.0,>=2.3.0->en_core_web_sm==2.3.1) (1.1.3)\n",
      "Requirement already satisfied: requests<3.0.0,>=2.13.0 in /home/ajanco/anaconda3/envs/bertopic/lib/python3.8/site-packages (from spacy<2.4.0,>=2.3.0->en_core_web_sm==2.3.1) (2.24.0)\n",
      "Requirement already satisfied: numpy>=1.15.0 in /home/ajanco/anaconda3/envs/bertopic/lib/python3.8/site-packages (from spacy<2.4.0,>=2.3.0->en_core_web_sm==2.3.1) (1.19.1)\n",
      "Requirement already satisfied: srsly<1.1.0,>=1.0.2 in /home/ajanco/anaconda3/envs/bertopic/lib/python3.8/site-packages (from spacy<2.4.0,>=2.3.0->en_core_web_sm==2.3.1) (1.0.2)\n",
      "Requirement already satisfied: murmurhash<1.1.0,>=0.28.0 in /home/ajanco/anaconda3/envs/bertopic/lib/python3.8/site-packages (from spacy<2.4.0,>=2.3.0->en_core_web_sm==2.3.1) (1.0.2)\n",
      "Requirement already satisfied: tqdm<5.0.0,>=4.38.0 in /home/ajanco/anaconda3/envs/bertopic/lib/python3.8/site-packages (from spacy<2.4.0,>=2.3.0->en_core_web_sm==2.3.1) (4.50.0)\n",
      "Requirement already satisfied: certifi>=2017.4.17 in /home/ajanco/anaconda3/envs/bertopic/lib/python3.8/site-packages (from requests<3.0.0,>=2.13.0->spacy<2.4.0,>=2.3.0->en_core_web_sm==2.3.1) (2020.6.20)\n",
      "Requirement already satisfied: urllib3!=1.25.0,!=1.25.1,<1.26,>=1.21.1 in /home/ajanco/anaconda3/envs/bertopic/lib/python3.8/site-packages (from requests<3.0.0,>=2.13.0->spacy<2.4.0,>=2.3.0->en_core_web_sm==2.3.1) (1.25.10)\n",
      "Requirement already satisfied: chardet<4,>=3.0.2 in /home/ajanco/anaconda3/envs/bertopic/lib/python3.8/site-packages (from requests<3.0.0,>=2.13.0->spacy<2.4.0,>=2.3.0->en_core_web_sm==2.3.1) (3.0.4)\n",
      "Requirement already satisfied: idna<3,>=2.5 in /home/ajanco/anaconda3/envs/bertopic/lib/python3.8/site-packages (from requests<3.0.0,>=2.13.0->spacy<2.4.0,>=2.3.0->en_core_web_sm==2.3.1) (2.10)\n",
      "Building wheels for collected packages: en-core-web-sm\n",
      "  Building wheel for en-core-web-sm (setup.py) ... \u001b[?25ldone\n",
      "\u001b[?25h  Created wheel for en-core-web-sm: filename=en_core_web_sm-2.3.1-py3-none-any.whl size=12047106 sha256=21e1f315caaddb74ba4416fe0fb6af27613c89412d0051daea5a647306c3e1d9\n",
      "  Stored in directory: /tmp/pip-ephem-wheel-cache-dt32m6jn/wheels/ee/4d/f7/563214122be1540b5f9197b52cb3ddb9c4a8070808b22d5a84\n",
      "Successfully built en-core-web-sm\n",
      "Installing collected packages: en-core-web-sm\n",
      "Successfully installed en-core-web-sm-2.3.1\n",
      "\u001b[38;5;2m✔ Download and installation successful\u001b[0m\n",
      "You can now load the model via spacy.load('en_core_web_sm')\n"
     ]
    }
   ],
   "source": [
    "!python -m spacy download en_core_web_sm"
   ]
  },
  {
   "cell_type": "code",
   "execution_count": 1,
   "metadata": {},
   "outputs": [
    {
     "name": "stdout",
     "output_type": "stream",
     "text": [
      "{'language': 'de', 'score': 0.9999971815794}\n"
     ]
    }
   ],
   "source": [
    "import spacy\n",
    "from spacy_langdetect import LanguageDetector\n",
    "from pathlib import Path\n",
    "nlp = spacy.load('en_core_web_sm')\n",
    "nlp.add_pipe(LanguageDetector(), name='language_detector', last=True)\n",
    "\n",
    "text = Path('/home/ajanco/projects/slavic_review/slavic_review_data/SlavicStudiesCluster1991to2020/pseudo/bookchapter10.2307_j.ctv11sn4p8.10.txt').read_text()\n",
    "#text = 'This is an english text.'\n",
    "doc = nlp(text)\n",
    "# document level language detection. Think of it like average language of the document!\n",
    "print(doc._.language)"
   ]
  },
  {
   "cell_type": "code",
   "execution_count": 4,
   "metadata": {},
   "outputs": [
    {
     "data": {
      "application/vnd.jupyter.widget-view+json": {
       "model_id": "59ba3be7ee7b421897a62fe0396c4413",
       "version_major": 2,
       "version_minor": 0
      },
      "text/plain": [
       "HBox(children=(HTML(value=''), FloatProgress(value=0.0, max=41251.0), HTML(value='')))"
      ]
     },
     "metadata": {},
     "output_type": "display_data"
    },
    {
     "name": "stdout",
     "output_type": "stream",
     "text": [
      "\n"
     ]
    }
   ],
   "source": [
    "from pathlib import Path \n",
    "from tqdm.autonotebook import tqdm \n",
    "\n",
    "pseudo_texts = Path('/home/ajanco/projects/slavic_review/slavic_review_data/SlavicStudiesCluster1991to2020/pseudoN3/')\n",
    "if not pseudo_texts.exists():\n",
    "    pseudo_texts.mkdir(parents=True, exist_ok=True)\n",
    "    \n",
    "    \n",
    "ngram3 = Path('/home/ajanco/projects/slavic_review/slavic_review_data/SlavicStudiesCluster1991to2020/ngram3')\n",
    "for file in tqdm(ngram3.iterdir(),total=len(list(ngram3.iterdir()))):\n",
    "    text = file.read_text()\n",
    "    pseudo_text = ''\n",
    "    for line in text.split('\\n'):\n",
    "        word=line.split('\\t')[0]\n",
    "        freq=line.split('\\t')[-1]\n",
    "        if freq == '':\n",
    "            pass\n",
    "\n",
    "        else:\n",
    "            for i in range(int(freq)):\n",
    "                pseudo_text += word + ' '\n",
    "    file_name = ''.join([a for a in file.name.split('-')[:-1]])\n",
    "    \n",
    "    (pseudo_texts / (file_name + '.txt')).write_text(pseudo_text)  \n",
    "            \n",
    "\n",
    "        \n",
    "\n",
    "# ngram2 = Path('/home/ajanco/projects/slavic_review/slavic_review_data/SlavicStudiesCluster1991to2020/ngram2')\n",
    "# for file in ngram2.iterdir():\n",
    "#     text = file.read_text()\n",
    "#     for line in text.split('\\n'):\n",
    "#         word=line.split('\\t')[0]\n",
    "#         freq=line.split('\\t')[-1]\n",
    "#         if freq == '':\n",
    "#             pass\n",
    "#         else:\n",
    "#             freq = int(freq)\n",
    "#             assert isinstance(freq, int)\n",
    "\n",
    "#         if word in main_dict.keys():\n",
    "#             main_dict[word] = main_dict[word] + freq\n",
    "#         else:\n",
    "#             main_dict[word] = freq\n",
    "            \n",
    "# ngram3 = Path('/home/ajanco/projects/slavic_review/slavic_review_data/SlavicStudiesCluster1991to2020/ngram2')\n",
    "# for file in ngram3.iterdir():\n",
    "#     text = file.read_text()\n",
    "#     for line in text.split('\\n'):\n",
    "#         word=line.split('\\t')[0]\n",
    "#         freq=line.split('\\t')[-1]\n",
    "#         if freq == '':\n",
    "#             pass\n",
    "#         else:\n",
    "#             freq = int(freq)\n",
    "#             assert isinstance(freq, int)\n",
    "#         if word in main_dict.keys():\n",
    "#             main_dict[word] = main_dict[word] + freq\n",
    "#         else:\n",
    "#             main_dict[word] = freq"
   ]
  },
  {
   "cell_type": "code",
   "execution_count": 10,
   "metadata": {},
   "outputs": [
    {
     "data": {
      "text/plain": [
       "'jewish jewish jewish jewish jewish jewish jewish jewish jewish jewish jewish jewish jewish jewish je'"
      ]
     },
     "execution_count": 10,
     "metadata": {},
     "output_type": "execute_result"
    }
   ],
   "source": [
    "a = Path('/home/ajanco/projects/slavic_review/slavic_review_data/SlavicStudiesCluster1991to2020/pseudo/bookchapter10.2307_j.ctv13qfv5w.32.txt').read_text()\n",
    "a[:100]\n"
   ]
  },
  {
   "cell_type": "code",
   "execution_count": 11,
   "metadata": {},
   "outputs": [
    {
     "data": {
      "text/plain": [
       "31465"
      ]
     },
     "execution_count": 11,
     "metadata": {},
     "output_type": "execute_result"
    }
   ],
   "source": [
    "len(a)"
   ]
  },
  {
   "cell_type": "code",
   "execution_count": null,
   "metadata": {},
   "outputs": [],
   "source": []
  }
 ],
 "metadata": {
  "kernelspec": {
   "display_name": "BERTopic",
   "language": "python",
   "name": "bertopic"
  },
  "language_info": {
   "codemirror_mode": {
    "name": "ipython",
    "version": 3
   },
   "file_extension": ".py",
   "mimetype": "text/x-python",
   "name": "python",
   "nbconvert_exporter": "python",
   "pygments_lexer": "ipython3",
   "version": "3.8.5"
  }
 },
 "nbformat": 4,
 "nbformat_minor": 4
}
