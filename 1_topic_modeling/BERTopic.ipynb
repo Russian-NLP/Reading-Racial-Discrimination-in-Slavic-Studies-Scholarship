{
 "cells": [
  {
   "cell_type": "markdown",
   "metadata": {
    "id": "AXHLDxJdRzBi"
   },
   "source": [
    "# BERTopic - Tutorial\n",
    "We start with installing bertopic from pypi before preparing the data. \n",
    "\n",
    "**NOTE**: Make sure to select a GPU runtime. Otherwise, the model can take quite some time to create the document embeddings!"
   ]
  },
  {
   "cell_type": "code",
   "execution_count": 1,
   "metadata": {
    "colab": {
     "base_uri": "https://localhost:8080/",
     "height": 625
    },
    "id": "SNa-KtKDRnus",
    "outputId": "f7ed585b-858d-4a70-dedf-31aa9748fac0"
   },
   "outputs": [
    {
     "name": "stdout",
     "output_type": "stream",
     "text": [
      "Requirement already satisfied: bertopic in /home/ajanco/anaconda3/envs/bertopic/lib/python3.8/site-packages (0.1.2)\n",
      "Requirement already satisfied: sentence-transformers in /home/ajanco/anaconda3/envs/bertopic/lib/python3.8/site-packages (from bertopic) (0.3.7.2)\n",
      "Requirement already satisfied: pandas in /home/ajanco/anaconda3/envs/bertopic/lib/python3.8/site-packages (from bertopic) (1.1.3)\n",
      "Requirement already satisfied: umap-learn in /home/ajanco/anaconda3/envs/bertopic/lib/python3.8/site-packages (from bertopic) (0.4.6)\n",
      "Requirement already satisfied: scikit-learn in /home/ajanco/anaconda3/envs/bertopic/lib/python3.8/site-packages (from bertopic) (0.23.2)\n",
      "Requirement already satisfied: joblib in /home/ajanco/anaconda3/envs/bertopic/lib/python3.8/site-packages (from bertopic) (0.17.0)\n",
      "Requirement already satisfied: tqdm in /home/ajanco/anaconda3/envs/bertopic/lib/python3.8/site-packages (from bertopic) (4.50.0)\n",
      "Requirement already satisfied: torch in /home/ajanco/anaconda3/envs/bertopic/lib/python3.8/site-packages (from bertopic) (1.6.0)\n",
      "Requirement already satisfied: numpy in /home/ajanco/anaconda3/envs/bertopic/lib/python3.8/site-packages (from bertopic) (1.19.1)\n",
      "Requirement already satisfied: hdbscan in /home/ajanco/anaconda3/envs/bertopic/lib/python3.8/site-packages (from bertopic) (0.8.26)\n",
      "Requirement already satisfied: nltk in /home/ajanco/anaconda3/envs/bertopic/lib/python3.8/site-packages (from sentence-transformers->bertopic) (3.5)\n",
      "Requirement already satisfied: scipy in /home/ajanco/anaconda3/envs/bertopic/lib/python3.8/site-packages (from sentence-transformers->bertopic) (1.5.2)\n",
      "Requirement already satisfied: transformers<3.4.0,>=3.1.0 in /home/ajanco/anaconda3/envs/bertopic/lib/python3.8/site-packages (from sentence-transformers->bertopic) (3.3.1)\n",
      "Requirement already satisfied: python-dateutil>=2.7.3 in /home/ajanco/anaconda3/envs/bertopic/lib/python3.8/site-packages (from pandas->bertopic) (2.8.1)\n",
      "Requirement already satisfied: pytz>=2017.2 in /home/ajanco/anaconda3/envs/bertopic/lib/python3.8/site-packages (from pandas->bertopic) (2020.1)\n",
      "Requirement already satisfied: numba!=0.47,>=0.46 in /home/ajanco/anaconda3/envs/bertopic/lib/python3.8/site-packages (from umap-learn->bertopic) (0.51.2)\n",
      "Requirement already satisfied: threadpoolctl>=2.0.0 in /home/ajanco/anaconda3/envs/bertopic/lib/python3.8/site-packages (from scikit-learn->bertopic) (2.1.0)\n",
      "Requirement already satisfied: future in /home/ajanco/anaconda3/envs/bertopic/lib/python3.8/site-packages (from torch->bertopic) (0.18.2)\n",
      "Requirement already satisfied: cython>=0.27 in /home/ajanco/anaconda3/envs/bertopic/lib/python3.8/site-packages (from hdbscan->bertopic) (0.29.21)\n",
      "Requirement already satisfied: six in /home/ajanco/anaconda3/envs/bertopic/lib/python3.8/site-packages (from hdbscan->bertopic) (1.15.0)\n",
      "Requirement already satisfied: regex in /home/ajanco/anaconda3/envs/bertopic/lib/python3.8/site-packages (from nltk->sentence-transformers->bertopic) (2020.9.27)\n",
      "Requirement already satisfied: click in /home/ajanco/anaconda3/envs/bertopic/lib/python3.8/site-packages (from nltk->sentence-transformers->bertopic) (7.1.2)\n",
      "Requirement already satisfied: sacremoses in /home/ajanco/anaconda3/envs/bertopic/lib/python3.8/site-packages (from transformers<3.4.0,>=3.1.0->sentence-transformers->bertopic) (0.0.43)\n",
      "Requirement already satisfied: tokenizers==0.8.1.rc2 in /home/ajanco/anaconda3/envs/bertopic/lib/python3.8/site-packages (from transformers<3.4.0,>=3.1.0->sentence-transformers->bertopic) (0.8.1rc2)\n",
      "Requirement already satisfied: requests in /home/ajanco/anaconda3/envs/bertopic/lib/python3.8/site-packages (from transformers<3.4.0,>=3.1.0->sentence-transformers->bertopic) (2.24.0)\n",
      "Requirement already satisfied: packaging in /home/ajanco/anaconda3/envs/bertopic/lib/python3.8/site-packages (from transformers<3.4.0,>=3.1.0->sentence-transformers->bertopic) (20.4)\n",
      "Requirement already satisfied: sentencepiece!=0.1.92 in /home/ajanco/anaconda3/envs/bertopic/lib/python3.8/site-packages (from transformers<3.4.0,>=3.1.0->sentence-transformers->bertopic) (0.1.91)\n",
      "Requirement already satisfied: filelock in /home/ajanco/anaconda3/envs/bertopic/lib/python3.8/site-packages (from transformers<3.4.0,>=3.1.0->sentence-transformers->bertopic) (3.0.12)\n",
      "Requirement already satisfied: setuptools in /home/ajanco/anaconda3/envs/bertopic/lib/python3.8/site-packages (from numba!=0.47,>=0.46->umap-learn->bertopic) (50.3.0.post20201005)\n",
      "Requirement already satisfied: llvmlite<0.35,>=0.34.0.dev0 in /home/ajanco/anaconda3/envs/bertopic/lib/python3.8/site-packages (from numba!=0.47,>=0.46->umap-learn->bertopic) (0.34.0)\n",
      "Requirement already satisfied: certifi>=2017.4.17 in /home/ajanco/anaconda3/envs/bertopic/lib/python3.8/site-packages (from requests->transformers<3.4.0,>=3.1.0->sentence-transformers->bertopic) (2020.6.20)\n",
      "Requirement already satisfied: chardet<4,>=3.0.2 in /home/ajanco/anaconda3/envs/bertopic/lib/python3.8/site-packages (from requests->transformers<3.4.0,>=3.1.0->sentence-transformers->bertopic) (3.0.4)\n",
      "Requirement already satisfied: urllib3!=1.25.0,!=1.25.1,<1.26,>=1.21.1 in /home/ajanco/anaconda3/envs/bertopic/lib/python3.8/site-packages (from requests->transformers<3.4.0,>=3.1.0->sentence-transformers->bertopic) (1.25.10)\n",
      "Requirement already satisfied: idna<3,>=2.5 in /home/ajanco/anaconda3/envs/bertopic/lib/python3.8/site-packages (from requests->transformers<3.4.0,>=3.1.0->sentence-transformers->bertopic) (2.10)\n",
      "Requirement already satisfied: pyparsing>=2.0.2 in /home/ajanco/anaconda3/envs/bertopic/lib/python3.8/site-packages (from packaging->transformers<3.4.0,>=3.1.0->sentence-transformers->bertopic) (2.4.7)\n"
     ]
    }
   ],
   "source": [
    "!pip install bertopic"
   ]
  },
  {
   "cell_type": "markdown",
   "metadata": {
    "id": "Y3VGFZ1USMTu"
   },
   "source": [
    "# Prepare data\n",
    "For this example, we use the famous 20 Newsgroups dataset which contains roughly 18000 newsgroups posts on 20 topics."
   ]
  },
  {
   "cell_type": "code",
   "execution_count": 2,
   "metadata": {
    "id": "JJij3WP6SEQD"
   },
   "outputs": [],
   "source": [
    "from bertopic import BERTopic\n",
    "from sklearn.datasets import fetch_20newsgroups\n",
    " \n",
    "docs = fetch_20newsgroups(subset='train')['data']"
   ]
  },
  {
   "cell_type": "code",
   "execution_count": 10,
   "metadata": {},
   "outputs": [
    {
     "data": {
      "text/plain": [
       "2209"
      ]
     },
     "execution_count": 10,
     "metadata": {},
     "output_type": "execute_result"
    }
   ],
   "source": [
    "len(docs)"
   ]
  },
  {
   "cell_type": "code",
   "execution_count": 8,
   "metadata": {},
   "outputs": [],
   "source": [
    "from pathlib import Path \n",
    "docs = []\n",
    "pseudo_texts =[docs.append(text.read_text()) for text in Path('/home/ajanco/projects/slavic_review/slavic_review_data/SlavicStudiesCluster1991to2020/pseudo').iterdir()]\n"
   ]
  },
  {
   "cell_type": "markdown",
   "metadata": {
    "id": "SBcNmZJzSTY8"
   },
   "source": [
    "# Create Topics\n",
    "We use the **distilbert-base-nli-mean-tokens** model as it is the recommended model for creating sentence embeddings according to the authors of the [sentence-embeddings](https://www.sbert.net/docs/pretrained_models.html) package. However, you can use whatever embeddings is currently pre-trained in the package."
   ]
  },
  {
   "cell_type": "code",
   "execution_count": 11,
   "metadata": {
    "colab": {
     "base_uri": "https://localhost:8080/",
     "height": 151
    },
    "id": "TfhfzqkoSJ1I",
    "outputId": "ac0e85e6-bd2b-4707-9e15-dc07641f5d3b"
   },
   "outputs": [
    {
     "name": "stderr",
     "output_type": "stream",
     "text": [
      "2020-10-06 10:16:16,473 - BERTopic - Loaded BERT model\n",
      "INFO:BERTopic:Loaded BERT model\n",
      "2020-10-06 10:21:28,970 - BERTopic - Transformed documents to Embeddings\n",
      "INFO:BERTopic:Transformed documents to Embeddings\n",
      "2020-10-06 10:21:38,207 - BERTopic - Reduced dimensionality with UMAP\n",
      "INFO:BERTopic:Reduced dimensionality with UMAP\n",
      "2020-10-06 10:21:38,285 - BERTopic - Clustered UMAP embeddings with HDBSCAN\n",
      "INFO:BERTopic:Clustered UMAP embeddings with HDBSCAN\n"
     ]
    }
   ],
   "source": [
    "model = BERTopic(\"distilbert-base-nli-mean-tokens\", verbose=True)\n",
    "topics = model.fit_transform(docs)"
   ]
  },
  {
   "cell_type": "code",
   "execution_count": 12,
   "metadata": {
    "colab": {
     "base_uri": "https://localhost:8080/",
     "height": 195
    },
    "id": "nNptKBzHSbyS",
    "outputId": "63e40121-3456-4cff-85b4-499a7a0ae179"
   },
   "outputs": [
    {
     "data": {
      "text/html": [
       "<div>\n",
       "<style scoped>\n",
       "    .dataframe tbody tr th:only-of-type {\n",
       "        vertical-align: middle;\n",
       "    }\n",
       "\n",
       "    .dataframe tbody tr th {\n",
       "        vertical-align: top;\n",
       "    }\n",
       "\n",
       "    .dataframe thead th {\n",
       "        text-align: right;\n",
       "    }\n",
       "</style>\n",
       "<table border=\"1\" class=\"dataframe\">\n",
       "  <thead>\n",
       "    <tr style=\"text-align: right;\">\n",
       "      <th></th>\n",
       "      <th>Topic</th>\n",
       "      <th>Count</th>\n",
       "    </tr>\n",
       "  </thead>\n",
       "  <tbody>\n",
       "    <tr>\n",
       "      <th>0</th>\n",
       "      <td>5</td>\n",
       "      <td>1779</td>\n",
       "    </tr>\n",
       "    <tr>\n",
       "      <th>1</th>\n",
       "      <td>-1</td>\n",
       "      <td>152</td>\n",
       "    </tr>\n",
       "    <tr>\n",
       "      <th>2</th>\n",
       "      <td>0</td>\n",
       "      <td>64</td>\n",
       "    </tr>\n",
       "    <tr>\n",
       "      <th>3</th>\n",
       "      <td>3</td>\n",
       "      <td>64</td>\n",
       "    </tr>\n",
       "    <tr>\n",
       "      <th>4</th>\n",
       "      <td>4</td>\n",
       "      <td>59</td>\n",
       "    </tr>\n",
       "  </tbody>\n",
       "</table>\n",
       "</div>"
      ],
      "text/plain": [
       "   Topic  Count\n",
       "0      5   1779\n",
       "1     -1    152\n",
       "2      0     64\n",
       "3      3     64\n",
       "4      4     59"
      ]
     },
     "execution_count": 12,
     "metadata": {},
     "output_type": "execute_result"
    }
   ],
   "source": [
    "# Get most frequent topics\n",
    "model.get_topics_freq()[:5]"
   ]
  },
  {
   "cell_type": "code",
   "execution_count": 13,
   "metadata": {
    "colab": {
     "base_uri": "https://localhost:8080/",
     "height": 185
    },
    "id": "UCw_q8I7Sb03",
    "outputId": "9634794c-ab79-47f4-ba63-6d4d3ff5f87c"
   },
   "outputs": [
    {
     "data": {
      "text/plain": [
       "[('ipfv', 0.00029459507352350904),\n",
       " ('inf', 0.00029184607606157323),\n",
       " ('1sg', 0.00029084422394701524),\n",
       " ('dat', 0.00028680449951270067),\n",
       " ('3pl', 0.00028208019895627765),\n",
       " ('že', 0.00028170985984073957),\n",
       " ('ako', 0.00028097106167717615),\n",
       " ('iprf', 0.0002796271642093219),\n",
       " ('china', 0.000278205824134825),\n",
       " ('putin', 0.0002768406925860054)]"
      ]
     },
     "execution_count": 13,
     "metadata": {},
     "output_type": "execute_result"
    }
   ],
   "source": [
    "# Get a topic \n",
    "model.get_topic(5)[:10]"
   ]
  },
  {
   "cell_type": "code",
   "execution_count": 16,
   "metadata": {},
   "outputs": [
    {
     "ename": "AttributeError",
     "evalue": "'BERTopic' object has no attribute 'encode'",
     "output_type": "error",
     "traceback": [
      "\u001b[0;31m---------------------------------------------------------------------------\u001b[0m",
      "\u001b[0;31mAttributeError\u001b[0m                            Traceback (most recent call last)",
      "\u001b[0;32m<ipython-input-16-e620b2251f7c>\u001b[0m in \u001b[0;36m<module>\u001b[0;34m\u001b[0m\n\u001b[1;32m      1\u001b[0m \u001b[0;32mimport\u001b[0m \u001b[0mmatplotlib\u001b[0m\u001b[0;34m.\u001b[0m\u001b[0mpyplot\u001b[0m \u001b[0;32mas\u001b[0m \u001b[0mplt\u001b[0m\u001b[0;34m\u001b[0m\u001b[0;34m\u001b[0m\u001b[0m\n\u001b[0;32m----> 2\u001b[0;31m \u001b[0membeddings\u001b[0m \u001b[0;34m=\u001b[0m \u001b[0mmodel\u001b[0m\u001b[0;34m.\u001b[0m\u001b[0mencode\u001b[0m\u001b[0;34m(\u001b[0m\u001b[0mdocs\u001b[0m\u001b[0;34m,\u001b[0m \u001b[0mshow_progress_bar\u001b[0m\u001b[0;34m=\u001b[0m\u001b[0;32mTrue\u001b[0m\u001b[0;34m)\u001b[0m\u001b[0;34m\u001b[0m\u001b[0;34m\u001b[0m\u001b[0m\n\u001b[0m\u001b[1;32m      3\u001b[0m \u001b[0;31m# Prepare data\u001b[0m\u001b[0;34m\u001b[0m\u001b[0;34m\u001b[0m\u001b[0;34m\u001b[0m\u001b[0m\n\u001b[1;32m      4\u001b[0m \u001b[0mumap_data\u001b[0m \u001b[0;34m=\u001b[0m \u001b[0mumap\u001b[0m\u001b[0;34m.\u001b[0m\u001b[0mUMAP\u001b[0m\u001b[0;34m(\u001b[0m\u001b[0mn_neighbors\u001b[0m\u001b[0;34m=\u001b[0m\u001b[0;36m15\u001b[0m\u001b[0;34m,\u001b[0m \u001b[0mn_components\u001b[0m\u001b[0;34m=\u001b[0m\u001b[0;36m2\u001b[0m\u001b[0;34m,\u001b[0m \u001b[0mmin_dist\u001b[0m\u001b[0;34m=\u001b[0m\u001b[0;36m0.0\u001b[0m\u001b[0;34m,\u001b[0m \u001b[0mmetric\u001b[0m\u001b[0;34m=\u001b[0m\u001b[0;34m'cosine'\u001b[0m\u001b[0;34m)\u001b[0m\u001b[0;34m.\u001b[0m\u001b[0mfit_transform\u001b[0m\u001b[0;34m(\u001b[0m\u001b[0membeddings\u001b[0m\u001b[0;34m)\u001b[0m\u001b[0;34m\u001b[0m\u001b[0;34m\u001b[0m\u001b[0m\n\u001b[1;32m      5\u001b[0m \u001b[0mresult\u001b[0m \u001b[0;34m=\u001b[0m \u001b[0mpd\u001b[0m\u001b[0;34m.\u001b[0m\u001b[0mDataFrame\u001b[0m\u001b[0;34m(\u001b[0m\u001b[0mumap_data\u001b[0m\u001b[0;34m,\u001b[0m \u001b[0mcolumns\u001b[0m\u001b[0;34m=\u001b[0m\u001b[0;34m[\u001b[0m\u001b[0;34m'x'\u001b[0m\u001b[0;34m,\u001b[0m \u001b[0;34m'y'\u001b[0m\u001b[0;34m]\u001b[0m\u001b[0;34m)\u001b[0m\u001b[0;34m\u001b[0m\u001b[0;34m\u001b[0m\u001b[0m\n",
      "\u001b[0;31mAttributeError\u001b[0m: 'BERTopic' object has no attribute 'encode'"
     ]
    }
   ],
   "source": [
    "import matplotlib.pyplot as plt\n",
    "embeddings = model.encode(docs, show_progress_bar=True)\n",
    "# Prepare data\n",
    "umap_data = umap.UMAP(n_neighbors=15, n_components=2, min_dist=0.0, metric='cosine').fit_transform(embeddings)\n",
    "result = pd.DataFrame(umap_data, columns=['x', 'y'])\n",
    "result['labels'] = cluster.labels_\n",
    "\n",
    "# Visualize clusters\n",
    "fig, ax = plt.subplots(figsize=(20, 10))\n",
    "outliers = result.loc[result.labels == -1, :]\n",
    "clustered = result.loc[result.labels != -1, :]\n",
    "plt.scatter(outliers.x, outliers.y, color='#BDBDBD', s=0.05)\n",
    "plt.scatter(clustered.x, clustered.y, c=clustered.labels, s=0.05, cmap='hsv_r')\n",
    "plt.colorbar()"
   ]
  },
  {
   "cell_type": "code",
   "execution_count": 15,
   "metadata": {},
   "outputs": [
    {
     "name": "stdout",
     "output_type": "stream",
     "text": [
      "Collecting matplotlib\n",
      "  Using cached matplotlib-3.3.2-cp38-cp38-manylinux1_x86_64.whl (11.6 MB)\n",
      "Requirement already satisfied: certifi>=2020.06.20 in /home/ajanco/anaconda3/envs/bertopic/lib/python3.8/site-packages (from matplotlib) (2020.6.20)\n",
      "Collecting kiwisolver>=1.0.1\n",
      "  Using cached kiwisolver-1.2.0-cp38-cp38-manylinux1_x86_64.whl (92 kB)\n",
      "Requirement already satisfied: pyparsing!=2.0.4,!=2.1.2,!=2.1.6,>=2.0.3 in /home/ajanco/anaconda3/envs/bertopic/lib/python3.8/site-packages (from matplotlib) (2.4.7)\n",
      "Collecting cycler>=0.10\n",
      "  Using cached cycler-0.10.0-py2.py3-none-any.whl (6.5 kB)\n",
      "Requirement already satisfied: pillow>=6.2.0 in /home/ajanco/anaconda3/envs/bertopic/lib/python3.8/site-packages (from matplotlib) (7.2.0)\n",
      "Requirement already satisfied: numpy>=1.15 in /home/ajanco/anaconda3/envs/bertopic/lib/python3.8/site-packages (from matplotlib) (1.19.1)\n",
      "Requirement already satisfied: python-dateutil>=2.1 in /home/ajanco/anaconda3/envs/bertopic/lib/python3.8/site-packages (from matplotlib) (2.8.1)\n",
      "Requirement already satisfied: six in /home/ajanco/anaconda3/envs/bertopic/lib/python3.8/site-packages (from cycler>=0.10->matplotlib) (1.15.0)\n",
      "Installing collected packages: kiwisolver, cycler, matplotlib\n",
      "Successfully installed cycler-0.10.0 kiwisolver-1.2.0 matplotlib-3.3.2\n"
     ]
    }
   ],
   "source": [
    "!pip install matplotlib"
   ]
  },
  {
   "cell_type": "markdown",
   "metadata": {
    "id": "wekNoQNuUVoU"
   },
   "source": [
    "## Model serialization\n",
    "The model and its internal settings can easily be saved. Note that the documents and embeddings will not be saved. However, UMAP and HDBSCAN will be saved. "
   ]
  },
  {
   "cell_type": "code",
   "execution_count": null,
   "metadata": {
    "id": "nWUF1uxiSb_a"
   },
   "outputs": [],
   "source": [
    "# Save model\n",
    "model.save(\"my_model\")\t"
   ]
  },
  {
   "cell_type": "code",
   "execution_count": null,
   "metadata": {
    "id": "y_eHBI1jSb6i"
   },
   "outputs": [],
   "source": [
    "# Load model\n",
    "my_model = BERTopic.load(\"my_model\")\t"
   ]
  },
  {
   "cell_type": "code",
   "execution_count": null,
   "metadata": {
    "colab": {
     "base_uri": "https://localhost:8080/",
     "height": 185
    },
    "id": "c9p-bE-MW_Bp",
    "outputId": "d03141a3-e285-4c99-85c9-ad4c8d0fbe1a"
   },
   "outputs": [
    {
     "data": {
      "text/plain": [
       "[('baseball', 0.01534818753609341),\n",
       " ('players', 0.01113384693242755),\n",
       " ('cubs', 0.010651317673247482),\n",
       " ('game', 0.01064425481072388),\n",
       " ('braves', 0.010439585241772109),\n",
       " ('pitching', 0.009477156669897367),\n",
       " ('games', 0.009166144809830891),\n",
       " ('runs', 0.009154570979537589),\n",
       " ('year', 0.008982491530594413),\n",
       " ('team', 0.00894693731063402)]"
      ]
     },
     "execution_count": 35,
     "metadata": {
      "tags": []
     },
     "output_type": "execute_result"
    }
   ],
   "source": [
    "my_model.get_topic(4)[:10]"
   ]
  }
 ],
 "metadata": {
  "accelerator": "GPU",
  "colab": {
   "collapsed_sections": [],
   "name": "BERTopic.ipynb",
   "provenance": []
  },
  "kernelspec": {
   "display_name": "BERTopic",
   "language": "python",
   "name": "bertopic"
  },
  "language_info": {
   "codemirror_mode": {
    "name": "ipython",
    "version": 3
   },
   "file_extension": ".py",
   "mimetype": "text/x-python",
   "name": "python",
   "nbconvert_exporter": "python",
   "pygments_lexer": "ipython3",
   "version": "3.8.5"
  }
 },
 "nbformat": 4,
 "nbformat_minor": 1
}
